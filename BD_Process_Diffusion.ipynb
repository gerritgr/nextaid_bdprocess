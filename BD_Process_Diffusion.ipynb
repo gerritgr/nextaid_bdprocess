{
  "cells": [
    {
      "cell_type": "markdown",
      "metadata": {
        "id": "view-in-github",
        "colab_type": "text"
      },
      "source": [
        "<a href=\"https://colab.research.google.com/github/gerritgr/nextaid_bdprocess/blob/main/BD_Process_Diffusion.ipynb\" target=\"_parent\"><img src=\"https://colab.research.google.com/assets/colab-badge.svg\" alt=\"Open In Colab\"/></a>"
      ]
    },
    {
      "cell_type": "code",
      "execution_count": 1,
      "metadata": {
        "id": "4E3KB1RDBRj-"
      },
      "outputs": [],
      "source": [
        "import networkx \n",
        "import os, glob, time\n",
        "import pandas as pd\n",
        "import numpy as np\n",
        "import pickle, random\n",
        "import seaborn as sns\n",
        "\n",
        "from matplotlib import pyplot as plt\n",
        "\n",
        "import torch\n",
        "import torch.nn as nn\n",
        "from torch.utils.data import Dataset, DataLoader\n",
        "\n",
        "\n",
        "import tensorflow as tf\n"
      ]
    },
    {
      "cell_type": "code",
      "execution_count": 2,
      "metadata": {
        "colab": {
          "base_uri": "https://localhost:8080/"
        },
        "id": "RIGAzY3aH6Fy",
        "outputId": "4f2399c5-f6a7-42d4-e565-c6b2cc237089"
      },
      "outputs": [
        {
          "output_type": "execute_result",
          "data": {
            "text/plain": [
              "device(type='cuda')"
            ]
          },
          "metadata": {},
          "execution_count": 2
        }
      ],
      "source": [
        "DEVICE = torch.device('cuda' if torch.cuda.is_available() else 'cpu')\n",
        "DEVICE"
      ]
    },
    {
      "cell_type": "code",
      "source": [
        "!sudo apt-get install gifsicle && pip install pygifsicle"
      ],
      "metadata": {
        "colab": {
          "base_uri": "https://localhost:8080/"
        },
        "id": "tniCHHQLyCre",
        "outputId": "06939941-1659-412b-c585-253140f18b51"
      },
      "execution_count": 3,
      "outputs": [
        {
          "output_type": "stream",
          "name": "stdout",
          "text": [
            "Reading package lists... Done\n",
            "Building dependency tree       \n",
            "Reading state information... Done\n",
            "The following package was automatically installed and is no longer required:\n",
            "  libnvidia-common-460\n",
            "Use 'sudo apt autoremove' to remove it.\n",
            "The following NEW packages will be installed:\n",
            "  gifsicle\n",
            "0 upgraded, 1 newly installed, 0 to remove and 20 not upgraded.\n",
            "Need to get 134 kB of archives.\n",
            "After this operation, 385 kB of additional disk space will be used.\n",
            "Get:1 http://archive.ubuntu.com/ubuntu bionic/universe amd64 gifsicle amd64 1.91-2 [134 kB]\n",
            "Fetched 134 kB in 0s (312 kB/s)\n",
            "debconf: unable to initialize frontend: Dialog\n",
            "debconf: (No usable dialog-like program is installed, so the dialog based frontend cannot be used. at /usr/share/perl5/Debconf/FrontEnd/Dialog.pm line 76, <> line 1.)\n",
            "debconf: falling back to frontend: Readline\n",
            "debconf: unable to initialize frontend: Readline\n",
            "debconf: (This frontend requires a controlling tty.)\n",
            "debconf: falling back to frontend: Teletype\n",
            "dpkg-preconfigure: unable to re-open stdin: \n",
            "Selecting previously unselected package gifsicle.\n",
            "(Reading database ... 155569 files and directories currently installed.)\n",
            "Preparing to unpack .../gifsicle_1.91-2_amd64.deb ...\n",
            "Unpacking gifsicle (1.91-2) ...\n",
            "Setting up gifsicle (1.91-2) ...\n",
            "Processing triggers for man-db (2.8.3-2ubuntu0.1) ...\n",
            "Looking in indexes: https://pypi.org/simple, https://us-python.pkg.dev/colab-wheels/public/simple/\n",
            "Collecting pygifsicle\n",
            "  Downloading pygifsicle-1.0.6.tar.gz (4.6 kB)\n",
            "Collecting support_developer>=1.0.2\n",
            "  Downloading support_developer-1.0.4.tar.gz (4.6 kB)\n",
            "Building wheels for collected packages: pygifsicle, support-developer\n",
            "  Building wheel for pygifsicle (setup.py) ... \u001b[?25l\u001b[?25hdone\n",
            "  Created wheel for pygifsicle: filename=pygifsicle-1.0.6-py3-none-any.whl size=4124 sha256=57f9e62f68a8413c6651970ea1d034c40a9d427084e45c002037452746066680\n",
            "  Stored in directory: /root/.cache/pip/wheels/10/a3/f4/d5ffc5a331e1f8a69f1ef615d3a91b47465255e2ead8c40ff9\n",
            "  Building wheel for support-developer (setup.py) ... \u001b[?25l\u001b[?25hdone\n",
            "  Created wheel for support-developer: filename=support_developer-1.0.4-py3-none-any.whl size=5067 sha256=349762972520dcbc9b5636d3a21985545841ef3b87f60e24dfd6e5236baa74c1\n",
            "  Stored in directory: /root/.cache/pip/wheels/e7/9d/c8/1209cb780a301c5181e3da11b8b4e161d30d034c6370b995ce\n",
            "Successfully built pygifsicle support-developer\n",
            "Installing collected packages: support-developer, pygifsicle\n",
            "Successfully installed pygifsicle-1.0.6 support-developer-1.0.4\n"
          ]
        }
      ]
    },
    {
      "cell_type": "code",
      "execution_count": 4,
      "metadata": {
        "id": "2SXgRhwMBcGM"
      },
      "outputs": [],
      "source": [
        "def multi_density(x, mean_1=-2, mean_2=2, sd_1=0.3, sd_2=0.6):\n",
        "  from scipy.stats import norm\n",
        "  return 0.5 * norm.pdf(x, loc=mean_1, scale=sd_1) + 0.5 * norm.pdf(x, loc=mean_2, scale=sd_2) "
      ]
    },
    {
      "cell_type": "code",
      "execution_count": 5,
      "metadata": {
        "id": "CLhPpLF6CJAG"
      },
      "outputs": [],
      "source": [
        "\n",
        "x_vec = np.linspace(-5, 5, 100)\n",
        "y_vec = np.array([multi_density(x) for x in x_vec])\n",
        "y_vec_Z = np.sum(y_vec)\n",
        "y_vec = y_vec/y_vec_Z"
      ]
    },
    {
      "cell_type": "code",
      "execution_count": 6,
      "metadata": {
        "colab": {
          "base_uri": "https://localhost:8080/",
          "height": 286
        },
        "id": "yawwLUQcCNv9",
        "outputId": "34fc01a4-0c09-4693-b962-bd79a1a0d8f8"
      },
      "outputs": [
        {
          "output_type": "execute_result",
          "data": {
            "text/plain": [
              "[<matplotlib.lines.Line2D at 0x7f17da73e410>]"
            ]
          },
          "metadata": {},
          "execution_count": 6
        },
        {
          "output_type": "display_data",
          "data": {
            "text/plain": [
              "<Figure size 432x288 with 1 Axes>"
            ],
            "image/png": "[encoded data removed]"
          },
          "metadata": {
            "needs_background": "light"
          }
        }
      ],
      "source": [
        "plt.plot(x_vec, y_vec)"
      ]
    },
    {
      "cell_type": "code",
      "execution_count": 7,
      "metadata": {
        "colab": {
          "base_uri": "https://localhost:8080/"
        },
        "id": "rovNrQooCjVe",
        "outputId": "0a8c668a-f938-4496-9e98-ba8f36973186"
      },
      "outputs": [
        {
          "output_type": "execute_result",
          "data": {
            "text/plain": [
              "array([1., 1., 1., 1., 1., 1., 1., 1., 1., 1., 1., 1., 1., 1., 1., 1., 1.,\n",
              "       1., 1., 1., 1., 1., 1., 1., 1., 1., 1., 1., 1., 1., 1., 1., 1., 1.,\n",
              "       1., 1., 1., 1., 1., 1., 1., 1., 1., 1., 1., 1., 1., 1., 1., 1., 1.,\n",
              "       1., 1., 1., 1., 1., 1., 1., 1., 1., 1., 1., 1., 1., 1., 1., 1., 1.,\n",
              "       1., 1., 1., 1., 1., 1., 1., 1., 1., 1., 1., 1., 1., 1., 1., 1., 1.,\n",
              "       1., 1., 1., 1., 1., 1., 1., 1., 1., 1., 1., 1., 1., 1., 1.])"
            ]
          },
          "metadata": {},
          "execution_count": 7
        }
      ],
      "source": [
        "prob_matrix = np.zeros([100,100]) \n",
        "stay = 0.0\n",
        "mean_direction = 1/2.0\n",
        "for i in range(100):\n",
        "  if i == 0:\n",
        "    prob_matrix[i,i] = stay * 2\n",
        "    prob_matrix[i,i+1] = 1.0-(stay*2)\n",
        "  elif i == 99:\n",
        "    prob_matrix[i,i] = stay*2\n",
        "    prob_matrix[i,i-1] = 1.0-(stay*2)\n",
        "  elif i == 50:\n",
        "    prob_matrix[i,i] = stay\n",
        "    prob_matrix[i,i-1] = (1.0-stay)*0.5\n",
        "    prob_matrix[i,i+1] = (1.0-stay)*0.5\n",
        "  elif i < 50:\n",
        "    prob_matrix[i,i] = stay\n",
        "    prob_matrix[i,i-1] = (1.0-stay)*(1.0-mean_direction)\n",
        "    prob_matrix[i,i+1] = (1.0-stay)*(mean_direction)\n",
        "  elif i > 50: \n",
        "    prob_matrix[i,i] = stay\n",
        "    prob_matrix[i,i-1] = (1.0-stay)*(mean_direction)\n",
        "    prob_matrix[i,i+1] = (1.0-stay)*(1.0-mean_direction)\n",
        "  else:\n",
        "    assert(False)\n",
        "#prob_matrix = prob_matrix.transpose()\n",
        "prob_matrix\n",
        "\n",
        "np.sum(prob_matrix, axis=1)"
      ]
    },
    {
      "cell_type": "code",
      "execution_count": 8,
      "metadata": {
        "colab": {
          "base_uri": "https://localhost:8080/"
        },
        "id": "OyfOWNNAGYjg",
        "outputId": "3a8bdef9-e7de-471f-ca7e-4584ee156395"
      },
      "outputs": [
        {
          "output_type": "execute_result",
          "data": {
            "text/plain": [
              "(100, 100)"
            ]
          },
          "metadata": {},
          "execution_count": 8
        }
      ],
      "source": [
        "prob_matrix.shape"
      ]
    },
    {
      "cell_type": "code",
      "execution_count": 9,
      "metadata": {
        "id": "NnqzmkH2GsN2"
      },
      "outputs": [],
      "source": [
        "pi = y_vec.reshape(1,100) # 1,100"
      ]
    },
    {
      "cell_type": "code",
      "execution_count": 10,
      "metadata": {
        "id": "yl32sskxGu8S"
      },
      "outputs": [],
      "source": [
        "TIME_SCALE = 1000\n",
        "sol = np.zeros([TIME_SCALE,100])\n",
        "for i in range(TIME_SCALE):\n",
        "  # (n,k),(k,m)->(n,m)     n=100, k=100, m=1\n",
        "  sol[i,:] = pi.flatten()\n",
        "  pi = np.matmul(pi, prob_matrix)  # pi prob matrix"
      ]
    },
    {
      "cell_type": "code",
      "execution_count": 11,
      "metadata": {
        "colab": {
          "base_uri": "https://localhost:8080/",
          "height": 265
        },
        "id": "j8CpnbUVHPg4",
        "outputId": "12f35c97-40a1-4c3a-ad3e-b13267a35930"
      },
      "outputs": [
        {
          "output_type": "display_data",
          "data": {
            "text/plain": [
              "<Figure size 432x288 with 1 Axes>"
            ],
            "image/png": "[encoded data removed]"
          },
          "metadata": {
            "needs_background": "light"
          }
        }
      ],
      "source": [
        "plt.plot(x_vec, sol[0,:])\n",
        "plt.plot(x_vec, sol[10,:])\n",
        "plt.plot(x_vec, sol[300,:])\n",
        "plt.plot(x_vec, sol[TIME_SCALE-1,:])\n",
        "_ = plt.ylim((0.0,np.max(sol)*1.1))"
      ]
    },
    {
      "cell_type": "markdown",
      "metadata": {
        "id": "zDaqRmBGEr88"
      },
      "source": [
        "### Gif"
      ]
    },
    {
      "cell_type": "code",
      "execution_count": 12,
      "metadata": {
        "colab": {
          "base_uri": "https://localhost:8080/",
          "height": 281
        },
        "id": "0Nz_O3WVEtGe",
        "outputId": "2c4ebec4-2863-449e-dcc8-a113ba053fc6"
      },
      "outputs": [
        {
          "output_type": "display_data",
          "data": {
            "text/plain": [
              "<Figure size 432x288 with 1 Axes>"
            ],
            "image/png": "[encoded data removed]"
          },
          "metadata": {
            "needs_background": "light"
          }
        }
      ],
      "source": [
        "os.system('mkdir output_kernel1')\n",
        "for i in range(sol.shape[0]):\n",
        "  if i == 0 or i == range(sol.shape[0])[-1] or i%20 == 0:\n",
        "    plt.clf()\n",
        "    plt.plot(x_vec, sol[i,:].flatten())\n",
        "    plt.ylim((0.0,np.max(sol)*1.1)) \n",
        "    plt.title((str(i).zfill(5)))\n",
        "    plt.savefig('output_kernel1/step_{}.png'.format(str(i).zfill(5)))\n",
        "    #if i > 500:\n",
        "    #  break"
      ]
    },
    {
      "cell_type": "code",
      "execution_count": 13,
      "metadata": {
        "id": "2he3rAiKFKXC"
      },
      "outputs": [],
      "source": [
        "import imageio\n",
        "with imageio.get_writer('kernel1.gif', mode='I', fps=5.0) as writer:\n",
        "    for filename in sorted(glob.glob('output_kernel1/step*.png')):\n",
        "        image = imageio.imread(filename)\n",
        "        writer.append_data(image)"
      ]
    },
    {
      "cell_type": "code",
      "execution_count": 14,
      "metadata": {
        "id": "PykEkOvUGlt0"
      },
      "outputs": [],
      "source": [
        "time.sleep(1)\n",
        "from pygifsicle import optimize\n",
        "optimize(\"kernel1.gif\")"
      ]
    },
    {
      "cell_type": "markdown",
      "metadata": {
        "id": "Mx2SdJD6JQiT"
      },
      "source": [
        "# Sampling"
      ]
    },
    {
      "cell_type": "code",
      "execution_count": 15,
      "metadata": {
        "colab": {
          "base_uri": "https://localhost:8080/",
          "height": 286
        },
        "id": "AvODb7e5nB3s",
        "outputId": "480d565f-ff38-4667-8edf-5a9a92be58d9"
      },
      "outputs": [
        {
          "output_type": "execute_result",
          "data": {
            "text/plain": [
              "[<matplotlib.lines.Line2D at 0x7f17d7290f50>]"
            ]
          },
          "metadata": {},
          "execution_count": 15
        },
        {
          "output_type": "display_data",
          "data": {
            "text/plain": [
              "<Figure size 432x288 with 1 Axes>"
            ],
            "image/png": "[encoded data removed]"
          },
          "metadata": {
            "needs_background": "light"
          }
        }
      ],
      "source": [
        "plt.plot(x_vec, sol[0,:])\n",
        "plt.plot(x_vec, sol[-1,:])"
      ]
    },
    {
      "cell_type": "markdown",
      "metadata": {
        "id": "9UgUa1zg-XgZ"
      },
      "source": [
        "### Sample Forward"
      ]
    },
    {
      "cell_type": "code",
      "execution_count": 16,
      "metadata": {
        "id": "1txIrKQQ-Zld"
      },
      "outputs": [],
      "source": [
        "def gen_forward_trajectory():\n",
        "  init_point = np.random.choice(list(range(100)), size=1, p=y_vec/np.sum(y_vec))\n",
        "  init_v = int(init_point[0])\n",
        "  trajetory = np.zeros(TIME_SCALE, dtype=int)\n",
        "  trajetory[0] = init_v\n",
        "  for i in range(TIME_SCALE-1):\n",
        "    current_pos = trajetory[i]\n",
        "    prob_go_to_left = 0.0\n",
        "    try:\n",
        "      prob_go_to_left = prob_matrix[current_pos, current_pos-1]\n",
        "    except:\n",
        "      pass\n",
        "    prob_go_to_right = 0.0\n",
        "    try:\n",
        "      prob_go_to_right = prob_matrix[current_pos, current_pos+1]\n",
        "    except:\n",
        "      pass\n",
        "    prob_stay = prob_matrix[current_pos, current_pos]\n",
        "    next_state_prob = np.array([prob_go_to_left, prob_stay, prob_go_to_right])\n",
        "    next_state_prob = next_state_prob / np.sum(next_state_prob)\n",
        "    next_state = np.random.choice([-1,0,1], size=1, p=next_state_prob) +  trajetory[i]\n",
        "    trajetory[i+1] = next_state\n",
        "  return trajetory"
      ]
    },
    {
      "cell_type": "code",
      "execution_count": null,
      "metadata": {
        "id": "rca5Md44-7cF"
      },
      "outputs": [],
      "source": [
        "trajetories_forward = [gen_forward_trajectory() for _ in range(100)]"
      ]
    },
    {
      "cell_type": "code",
      "execution_count": null,
      "metadata": {
        "id": "HK70QgWE--uK"
      },
      "outputs": [],
      "source": [
        "for trajetory in trajetories_forward:\n",
        "  plt.plot(trajetory, alpha=0.1)\n",
        "z = plt.ylim((0, 100))"
      ]
    },
    {
      "cell_type": "code",
      "execution_count": null,
      "metadata": {
        "id": "ImSX-cjbz3ae"
      },
      "outputs": [],
      "source": [
        "def gen_trainloader(traj_num = 1000, mini_batch_size = 100):\n",
        "  trajetories_forward = [gen_forward_trajectory() for _ in range(traj_num)]\n",
        "  sample_data = list()\n",
        "  for traj in trajetories_forward:\n",
        "    for i in range(len(traj)-1):\n",
        "      input = torch.tensor([traj[i+1],i+1], dtype=torch.float, device=DEVICE)\n",
        "      prediction = torch.zeros(3, dtype=torch.float, device=DEVICE)\n",
        "      if traj[i+1] ==  traj[i]:\n",
        "        prediction[1] = 1.0\n",
        "      elif traj[i+1] ==  traj[i]+1:\n",
        "        prediction[0] = 1.0\n",
        "      elif traj[i+1] ==  traj[i]-1:\n",
        "        prediction[2] = 1.0\n",
        "      sample = (input, prediction)\n",
        "      sample_data.append(sample) \n",
        "  train_data = DataLoader(sample_data, batch_size=mini_batch_size, shuffle=True) \n",
        "  return train_data\n"
      ]
    },
    {
      "cell_type": "markdown",
      "metadata": {
        "id": "x3D8ffAi-Zv-"
      },
      "source": [
        "### Sample Backward"
      ]
    },
    {
      "cell_type": "code",
      "execution_count": null,
      "metadata": {
        "id": "H53YXsfcJwiN"
      },
      "outputs": [],
      "source": [
        "def gen_trajectory():\n",
        "  init_point = np.random.choice(list(range(100)), size=1, p=[1/100.0 for _ in range(100)])\n",
        "  init_v = int(init_point[0])\n",
        "  \n",
        "  trajetory = np.zeros(TIME_SCALE, dtype=int)\n",
        "  trajetory[0] = init_v\n",
        "  for i in range(TIME_SCALE-1):\n",
        "    current_pos = trajetory[i]\n",
        "\n",
        "    prob_go_to_left = 0.0\n",
        "    if current_pos != 0:\n",
        "      prob_go_to_left = sol[TIME_SCALE-i-2, current_pos-1] * prob_matrix[current_pos-1, current_pos] # prior to be in left state at t-1 * prob to go from left state to current state\n",
        "\n",
        "    prob_go_to_right = 0.0\n",
        "    if current_pos != 99:\n",
        "      prob_go_to_right = sol[TIME_SCALE-i-2, current_pos+1] * prob_matrix[current_pos+1, current_pos] # prior to be in left state at t-1 * prob to go from left state to current state\n",
        "\n",
        "    prob_form_same =  sol[TIME_SCALE-i-2, current_pos] * prob_matrix[current_pos, current_pos]\n",
        "\n",
        "    next_state_prob = np.array([prob_go_to_left, prob_form_same, prob_go_to_right])\n",
        "    next_state_prob = next_state_prob / np.sum(next_state_prob)\n",
        "    next_state = np.random.choice([-1,0,1], size=1, p=next_state_prob) +  trajetory[i]\n",
        "    trajetory[i+1] = next_state\n",
        "  return trajetory\n",
        "\n"
      ]
    },
    {
      "cell_type": "code",
      "execution_count": null,
      "metadata": {
        "id": "YgS4su3NXIDM"
      },
      "outputs": [],
      "source": [
        "trajetories = [gen_trajectory() for _ in range(100)]"
      ]
    },
    {
      "cell_type": "code",
      "execution_count": null,
      "metadata": {
        "id": "t5gLHg72WCET"
      },
      "outputs": [],
      "source": [
        "for trajetory in trajetories:\n",
        "  plt.plot(trajetory, alpha=0.1)\n",
        "z = plt.ylim((0, 100))"
      ]
    },
    {
      "cell_type": "code",
      "execution_count": null,
      "metadata": {
        "id": "V5mZog3Xn1io"
      },
      "outputs": [],
      "source": [
        "os.system('mkdir output_back1')\n",
        "for i in range(TIME_SCALE):\n",
        "  if i == 0 or i == range(TIME_SCALE)[-1] or i % 10 == 0:\n",
        "    plt.clf()\n",
        "    sns.histplot([t[i] for t in trajetories], bins=20)\n",
        "    #plt.plot(x_vec, sol[i,:].flatten())\n",
        "    #plt.ylim((0.0,np.max(sol)*1.1)) \n",
        "    plt.xlim((0, 100))\n",
        "    #plt.ylim((0, 0.12))\n",
        "    plt.title((str(i).zfill(5)))\n",
        "    plt.savefig('output_back1/step_{}.png'.format(str(i).zfill(5)))\n",
        "    plt.close()"
      ]
    },
    {
      "cell_type": "code",
      "execution_count": null,
      "metadata": {
        "id": "ti0d9SuRvhSi"
      },
      "outputs": [],
      "source": [
        "import imageio\n",
        "with imageio.get_writer('back1.gif', mode='I', fps=5.0) as writer:\n",
        "    for filename in sorted(glob.glob('output_back1/step*.png')):\n",
        "        image = imageio.imread(filename)\n",
        "        writer.append_data(image)"
      ]
    },
    {
      "cell_type": "code",
      "execution_count": null,
      "metadata": {
        "id": "PTz9Lzm4vkmi"
      },
      "outputs": [],
      "source": [
        "time.sleep(1)\n",
        "from pygifsicle import optimize\n",
        "optimize(\"back1.gif\")"
      ]
    },
    {
      "cell_type": "markdown",
      "metadata": {
        "id": "W_W_ENxr2iJ3"
      },
      "source": [
        "## Training"
      ]
    },
    {
      "cell_type": "code",
      "execution_count": null,
      "metadata": {
        "id": "jLFtWNhp2i4L"
      },
      "outputs": [],
      "source": [
        "class GuidanceNet(torch.nn.Module):\n",
        "  def __init__(self, input_size=2, hidden_size=100, layer_number=15, out_size=3, softmax_out = True):\n",
        "    super(GuidanceNet, self).__init__()\n",
        "    self.input_size = input_size\n",
        "    self.hidden_size  = hidden_size\n",
        "    self.softmax = nn.Softmax(dim=1)\n",
        "    self.softmax_out = softmax_out\n",
        "\n",
        "    layers = []\n",
        "    layers.append(nn.Linear(input_size, hidden_size))\n",
        "    layers.append(nn.ReLU()) # or make leaky\n",
        "    for i in range(layer_number):\n",
        "      layers.append(nn.Linear(hidden_size, hidden_size))\n",
        "      layers.append(nn.ReLU())\n",
        "      layers.append(nn.Dropout(p=0.05))\n",
        "    layers.append(nn.Linear(hidden_size, out_size))\n",
        "    self.mlp = nn.Sequential(*layers)\n",
        "\n",
        "  def forward(self, x):\n",
        "    x = self.mlp(x)\n",
        "    if not self.softmax_out:\n",
        "      return x\n",
        "    x = self.softmax(x)\n",
        "    return x\n",
        "\n",
        "net = GuidanceNet()"
      ]
    },
    {
      "cell_type": "markdown",
      "source": [
        "### Eval Model"
      ],
      "metadata": {
        "id": "w9g9WOubziSe"
      }
    },
    {
      "cell_type": "code",
      "source": [
        "\n",
        "def gen_trajectory_learned():\n",
        "    init_point = np.random.choice(list(range(100)), size=1, p=[1/100.0 for _ in range(100)])\n",
        "    init_v = int(init_point[0])\n",
        "\n",
        "    trajetory = np.zeros(TIME_SCALE, dtype=int)\n",
        "    trajetory[0] = init_v\n",
        "    for i in range(TIME_SCALE-1):\n",
        "        current_pos = trajetory[i]\n",
        "        input = torch.tensor([current_pos, TIME_SCALE-i-1], dtype=torch.float, device=DEVICE)\n",
        "        input = input.reshape(1, -1)\n",
        "        prediction = model(input).flatten().detach().cpu().numpy()\n",
        "        assert(np.sum(prediction) > 0.9999 and np.sum(prediction) < 1.0001)\n",
        "\n",
        "        next_state = np.random.choice([-1,0,1], size=1, p=prediction) +  trajetory[i]\n",
        "        trajetory[i+1] = next_state\n",
        "        trajetory[i+1] = max(0,trajetory[i+1])\n",
        "        trajetory[i+1] = min(99,trajetory[i+1])\n",
        "    return trajetory\n",
        "\n",
        "def eval_model(model, epoch):\n",
        "    model.eval()\n",
        "    \n",
        "    # map\n",
        "    pred_map = np.zeros([TIME_SCALE,100])\n",
        "    for t in range(TIME_SCALE):\n",
        "        for pos in range(100):\n",
        "            input = torch.tensor([pos, t], dtype=torch.float, device=DEVICE)\n",
        "            input = input.reshape(1, -1) # batch format\n",
        "            net_output = model(input)\n",
        "            x = float(net_output[0][0] - net_output[0][2])\n",
        "            pred_map[t, pos] = 1/(1+np.exp(-x))  #cut off at 0\n",
        "    pred_map[0][0] = 1.0\n",
        "    pred_map[0][1] = 0.0\n",
        "    plt.clf()\n",
        "    plt.imshow(pred_map, cmap='seismic', interpolation=\"nearest\")\n",
        "    plt.colorbar()\n",
        "    plt.savefig('map_{}.png'.format(100000+epoch), dpi=300)\n",
        "    \n",
        "    \n",
        "    #trajs \n",
        "    plt.clf()\n",
        "    traj_learned = [gen_trajectory_learned() for _ in range(30)]\n",
        "    for trajetory in traj_learned:\n",
        "        plt.plot(trajetory, alpha=0.1)\n",
        "    z = plt.ylim((0, 100))\n",
        "    plt.savefig('trajs_learned_{}.png'.format(100000+epoch), dpi=300)\n",
        "    plt.clf()\n",
        "    \n",
        "    #final\n",
        "    traj_learned = [gen_trajectory_learned() for _ in range(500)]\n",
        "    for pos in [0,-1,int(TIME_SCALE/2)]:\n",
        "        final_state = [traj[pos] for traj in traj_learned]\n",
        "        sns.displot(final_state, kde=True)\n",
        "        z = plt.xlim((0, 100))\n",
        "        plt.savefig('trajs_learned_final_{}_{}.png'.format(100000+epoch, pos), dpi=300)\n",
        "        plt.clf()\n",
        "    "
      ],
      "metadata": {
        "id": "A1whotSYzjhM"
      },
      "execution_count": null,
      "outputs": []
    },
    {
      "cell_type": "markdown",
      "metadata": {
        "id": "CPp6KC6V9TVg"
      },
      "source": [
        "## Training Procedure"
      ]
    },
    {
      "cell_type": "code",
      "execution_count": null,
      "metadata": {
        "id": "3xG7Rl5x9uYV"
      },
      "outputs": [],
      "source": [
        "def train(train_loader, criterion, optimizer, model):\n",
        "  model.train()\n",
        "  loss_list = list()\n",
        "  pbar = tf.keras.utils.Progbar(target=len(train_loader))\n",
        "  for idx, (input, target) in enumerate(train_loader):\n",
        "    optimizer.zero_grad() \n",
        "    input_noise = input + torch.randn(input.shape, device=DEVICE) #* 2.0\n",
        "    prediction = model(input_noise)\n",
        "    loss = criterion(prediction, target)\n",
        "    loss.backward()  \n",
        "    optimizer.step()   \n",
        "    loss = float(loss)\n",
        "    loss_list.append(loss)\n",
        "    pbar.update(idx, values=[(\"loss\",loss)])\n",
        "  return np.mean(loss_list)\n"
      ]
    },
    {
      "cell_type": "code",
      "execution_count": null,
      "metadata": {
        "id": "B2MCzQ9wac3M"
      },
      "outputs": [],
      "source": [
        "def loss_fn(prediction, target):\n",
        "  loss_value = prediction*target\n",
        "  loss_value = torch.sum(loss_value, dim=1)\n",
        "  loss_value = -torch.log(loss_value+0.000000001) \n",
        "  loss_value = torch.mean(loss_value) # or sum for actual negative LL\n",
        "  return loss_value"
      ]
    },
    {
      "cell_type": "code",
      "execution_count": null,
      "metadata": {
        "id": "tf5Deuas9WKp"
      },
      "outputs": [],
      "source": [
        "# setup\n",
        "from torch.utils.tensorboard import SummaryWriter\n",
        "writer = SummaryWriter('runs/molecules')\n",
        "\n",
        "criterion = loss_fn\n",
        "#criterion =  nn.CrossEntropyLoss()\n",
        "#criterion = nn.NLLLoss()\n",
        "model = GuidanceNet()\n",
        "model.to(DEVICE)\n",
        "optimizer = torch.optim.Adam(model.parameters(), lr=0.0001)\n",
        "epoch_num = 20\n",
        "loss_list = list()\n",
        "BATCH_SIZE = 1000\n",
        "\n",
        "train_loader = None\n",
        "\n",
        "\n",
        "# training loop\n",
        "for epoch_i in range(epoch_num):\n",
        "  if epoch_i % 50 == 0 or epoch_i == epoch_num-1: \n",
        "    train_loader = gen_trainloader(traj_num = 1000, mini_batch_size = 500)\n",
        "  loss = train(train_loader, criterion, optimizer, model)\n",
        "  loss_list.append(loss)\n",
        "  print(\"   Epoch {}/{} finished.\".format(epoch_i+1, epoch_num))\n",
        "  writer.add_scalar(\"Loss/train\", loss, epoch_i)\n",
        "  writer.close()\n",
        "  if epoch_i % 20 == 0:\n",
        "    eval_model(model, epoch_i)\n",
        "\n",
        "print('done')"
      ]
    },
    {
      "cell_type": "code",
      "execution_count": null,
      "metadata": {
        "id": "w9veWOGWRCyO"
      },
      "outputs": [],
      "source": [
        "#%load_ext tensorboard\n",
        "#%tensorboard --logdir runs"
      ]
    }
  ],
  "metadata": {
    "accelerator": "GPU",
    "colab": {
      "collapsed_sections": [],
      "provenance": [],
      "authorship_tag": "ABX9TyOtNzgo0BnRvEFvcbHoTx+2",
      "include_colab_link": true
    },
    "gpuClass": "standard",
    "kernelspec": {
      "display_name": "Python 3",
      "name": "python3"
    },
    "language_info": {
      "name": "python"
    }
  },
  "nbformat": 4,
  "nbformat_minor": 0
}